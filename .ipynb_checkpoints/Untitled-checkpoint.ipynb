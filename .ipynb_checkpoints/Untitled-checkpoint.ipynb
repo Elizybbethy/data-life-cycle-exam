{
 "cells": [
  {
   "cell_type": "code",
   "execution_count": 1,
   "id": "ddac5aef-0255-4ec4-96fe-3c52f73cf8b2",
   "metadata": {},
   "outputs": [
    {
     "name": "stdout",
     "output_type": "stream",
     "text": [
      "   ID    LONG     LAT SUB_Basin  Elevation  AAP(mm)  RiverDIST(m)  \\\n",
      "0   1  52.326  27.763    Mehran      617.0      137   1448.705292   \n",
      "1   2  52.333  27.772    Mehran      944.0      137    344.299484   \n",
      "2   3  52.326  27.763    Mehran      617.0      137   1448.705292   \n",
      "3   4  52.333  27.694    Mehran       55.0      137   1889.828623   \n",
      "4   5  52.324  27.682    Mehran       20.0      137    874.201691   \n",
      "\n",
      "   FaultDIST(m)     Landuse_Type  Slop(Percent)  Slop(Degrees) GEO_UNIT  \\\n",
      "0   40639.57890        poorrange      42.240669      22.899523  EOas-ja   \n",
      "1   40135.02913  mix(woodland_x)      68.219116      34.301464  KEpd-gu   \n",
      "2   40639.57890        poorrange      42.240669      22.899523  EOas-ja   \n",
      "3   42189.54442             rock      12.141766       6.922833    Mlmmi   \n",
      "4   43010.08400        poorrange       2.216230       1.269598   MuPlaj   \n",
      "\n",
      "                                          DES_GEOUNI Climate_Type  \\\n",
      "0  Undivided Asmari and Jahrum Formation , regard...       A-M-VW   \n",
      "1                   Keewatin Epedotic quartz diorite       A-M-VW   \n",
      "2  Undivided Asmari and Jahrum Formation , regard...       A-M-VW   \n",
      "3   Low weathering grey marls alternating with ba...       A-M-VW   \n",
      "4   Brown to grey , calcareous , feature - formin...       A-M-VW   \n",
      "\n",
      "                                     DES_ClimateType  \n",
      "0  Warm and humid, with a humid period longer tha...  \n",
      "1  Warm and humid, with a humid period longer tha...  \n",
      "2  Warm and humid, with a humid period longer tha...  \n",
      "3  Warm and humid, with a humid period longer tha...  \n",
      "4  Warm and humid, with a humid period longer tha...  \n"
     ]
    }
   ],
   "source": [
    "import pandas as pd\n",
    "landslide = pd.read_csv(\"Landslide_Factors_IRAN.csv\")\n",
    "print(landslide.head())"
   ]
  },
  {
   "cell_type": "code",
   "execution_count": 2,
   "id": "5d8df07e-d9d3-41a9-9eac-bed9c774175d",
   "metadata": {},
   "outputs": [
    {
     "name": "stdout",
     "output_type": "stream",
     "text": [
      "ID                 0\n",
      "LONG               0\n",
      "LAT                0\n",
      "SUB_Basin          0\n",
      "Elevation          0\n",
      "AAP(mm)            0\n",
      "RiverDIST(m)       0\n",
      "FaultDIST(m)       0\n",
      "Landuse_Type       0\n",
      "Slop(Percent)      0\n",
      "Slop(Degrees)      0\n",
      "GEO_UNIT           0\n",
      "DES_GEOUNI         0\n",
      "Climate_Type       0\n",
      "DES_ClimateType    0\n",
      "dtype: int64\n"
     ]
    }
   ],
   "source": [
    "#Find missing if there missing values\n",
    "print(landslide.isnull().sum())"
   ]
  },
  {
   "cell_type": "code",
   "execution_count": 3,
   "id": "233f4251-b62b-4d26-b24a-dc7f1d953cfe",
   "metadata": {},
   "outputs": [
    {
     "name": "stdout",
     "output_type": "stream",
     "text": [
      "<class 'pandas.core.frame.DataFrame'>\n",
      "RangeIndex: 4295 entries, 0 to 4294\n",
      "Data columns (total 15 columns):\n",
      " #   Column           Non-Null Count  Dtype  \n",
      "---  ------           --------------  -----  \n",
      " 0   ID               4295 non-null   int64  \n",
      " 1   LONG             4295 non-null   float64\n",
      " 2   LAT              4295 non-null   float64\n",
      " 3   SUB_Basin        4295 non-null   object \n",
      " 4   Elevation        4295 non-null   float64\n",
      " 5   AAP(mm)          4295 non-null   int64  \n",
      " 6   RiverDIST(m)     4295 non-null   float64\n",
      " 7   FaultDIST(m)     4295 non-null   float64\n",
      " 8   Landuse_Type     4295 non-null   object \n",
      " 9   Slop(Percent)    4295 non-null   float64\n",
      " 10  Slop(Degrees)    4295 non-null   float64\n",
      " 11  GEO_UNIT         4295 non-null   object \n",
      " 12  DES_GEOUNI       4295 non-null   object \n",
      " 13  Climate_Type     4295 non-null   object \n",
      " 14  DES_ClimateType  4295 non-null   object \n",
      "dtypes: float64(7), int64(2), object(6)\n",
      "memory usage: 503.4+ KB\n",
      "None\n"
     ]
    }
   ],
   "source": [
    "#Finding datatypes\n",
    "print(landslide.info())"
   ]
  },
  {
   "cell_type": "code",
   "execution_count": 4,
   "id": "170823f2-08a7-4c26-8d1b-49fd49857ec6",
   "metadata": {},
   "outputs": [
    {
     "name": "stdout",
     "output_type": "stream",
     "text": [
      "                ID         LONG          LAT    Elevation      AAP(mm)  \\\n",
      "count  4295.000000  4295.000000  4295.000000  4295.000000  4295.000000   \n",
      "mean   2148.000000    50.991609    34.934854  1391.111692   242.166007   \n",
      "std    1240.004032     3.354156     2.639496   673.859458   136.964710   \n",
      "min       1.000000    44.302000    26.424000     0.000000    54.000000   \n",
      "25%    1074.500000    48.433000    32.997500   860.500000   158.000000   \n",
      "50%    2148.000000    50.499000    36.173000  1552.000000   194.000000   \n",
      "75%    3221.500000    53.190500    36.864000  1902.500000   270.000000   \n",
      "max    4295.000000    61.792000    39.293000  3583.000000  1142.000000   \n",
      "\n",
      "       RiverDIST(m)  FaultDIST(m)  Slop(Percent)  Slop(Degrees)  \n",
      "count   4295.000000   4295.000000    4295.000000    4295.000000  \n",
      "mean     809.247705   5464.176909      23.083628      12.684708  \n",
      "std      974.939030   5920.570823      15.483778       7.976655  \n",
      "min        0.065920      1.121601       0.000000       0.000000  \n",
      "25%      208.199375   1314.589467      11.533882       6.579355  \n",
      "50%      526.187336   3486.626632      20.419369      11.540784  \n",
      "75%     1116.083961   7701.447471      31.399784      17.432177  \n",
      "max    25656.226180  44108.087060     100.000000      45.000000  \n"
     ]
    }
   ],
   "source": [
    "print(landslide.describe())"
   ]
  },
  {
   "cell_type": "code",
   "execution_count": null,
   "id": "845e551d-02c9-4d14-9a19-b51023c73e51",
   "metadata": {},
   "outputs": [],
   "source": []
  }
 ],
 "metadata": {
  "kernelspec": {
   "display_name": "Python 3 (ipykernel)",
   "language": "python",
   "name": "python3"
  },
  "language_info": {
   "codemirror_mode": {
    "name": "ipython",
    "version": 3
   },
   "file_extension": ".py",
   "mimetype": "text/x-python",
   "name": "python",
   "nbconvert_exporter": "python",
   "pygments_lexer": "ipython3",
   "version": "3.10.12"
  }
 },
 "nbformat": 4,
 "nbformat_minor": 5
}
